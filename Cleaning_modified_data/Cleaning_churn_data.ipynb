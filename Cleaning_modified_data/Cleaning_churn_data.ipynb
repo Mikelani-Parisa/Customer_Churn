{
 "cells": [
  {
   "cell_type": "code",
   "execution_count": 1,
   "id": "d70e977e",
   "metadata": {},
   "outputs": [],
   "source": [
    "# importing the required libaries\n",
    "import pandas as pd\n",
    "import numpy as np\n",
    "import matplotlib.pyplot as plt\n",
    "import seaborn as sns\n",
    "import scipy.stats as stats\n",
    "%matplotlib inline"
   ]
  },
  {
   "cell_type": "code",
   "execution_count": null,
   "id": "2f711435",
   "metadata": {},
   "outputs": [
    {
     "data": {
      "text/html": [
       "<div>\n",
       "<style scoped>\n",
       "    .dataframe tbody tr th:only-of-type {\n",
       "        vertical-align: middle;\n",
       "    }\n",
       "\n",
       "    .dataframe tbody tr th {\n",
       "        vertical-align: top;\n",
       "    }\n",
       "\n",
       "    .dataframe thead th {\n",
       "        text-align: right;\n",
       "    }\n",
       "</style>\n",
       "<table border=\"1\" class=\"dataframe\">\n",
       "  <thead>\n",
       "    <tr style=\"text-align: right;\">\n",
       "      <th></th>\n",
       "      <th>Call  Failure</th>\n",
       "      <th>Complains</th>\n",
       "      <th>Subscription  Length</th>\n",
       "      <th>Charge  Amount</th>\n",
       "      <th>Seconds of Use</th>\n",
       "      <th>Frequency of use</th>\n",
       "      <th>Frequency of SMS</th>\n",
       "      <th>Distinct Called Numbers</th>\n",
       "      <th>Tariff Plan</th>\n",
       "      <th>Status</th>\n",
       "      <th>Age</th>\n",
       "      <th>Customer Value</th>\n",
       "      <th>Churn</th>\n",
       "    </tr>\n",
       "  </thead>\n",
       "  <tbody>\n",
       "    <tr>\n",
       "      <th>0</th>\n",
       "      <td>8</td>\n",
       "      <td>0</td>\n",
       "      <td>-38.0</td>\n",
       "      <td>0</td>\n",
       "      <td>4370</td>\n",
       "      <td>71.0</td>\n",
       "      <td>5.0</td>\n",
       "      <td>17.0</td>\n",
       "      <td>1</td>\n",
       "      <td>1</td>\n",
       "      <td>30.0</td>\n",
       "      <td>197.640</td>\n",
       "      <td>no</td>\n",
       "    </tr>\n",
       "    <tr>\n",
       "      <th>1</th>\n",
       "      <td>O</td>\n",
       "      <td>0</td>\n",
       "      <td>39.0</td>\n",
       "      <td>0</td>\n",
       "      <td>NaN</td>\n",
       "      <td>5.0</td>\n",
       "      <td>7.0</td>\n",
       "      <td>4.0</td>\n",
       "      <td>1</td>\n",
       "      <td>1</td>\n",
       "      <td>25.0</td>\n",
       "      <td>46.035</td>\n",
       "      <td>no</td>\n",
       "    </tr>\n",
       "    <tr>\n",
       "      <th>2</th>\n",
       "      <td>ooo</td>\n",
       "      <td>0</td>\n",
       "      <td>37.0</td>\n",
       "      <td>0</td>\n",
       "      <td>2453</td>\n",
       "      <td>60.0</td>\n",
       "      <td>359.0</td>\n",
       "      <td>24.0</td>\n",
       "      <td>1</td>\n",
       "      <td>1</td>\n",
       "      <td>-30.0</td>\n",
       "      <td>1536.520</td>\n",
       "      <td>no</td>\n",
       "    </tr>\n",
       "    <tr>\n",
       "      <th>3</th>\n",
       "      <td>10</td>\n",
       "      <td>0</td>\n",
       "      <td>38.0</td>\n",
       "      <td>0</td>\n",
       "      <td>4198</td>\n",
       "      <td>66.0</td>\n",
       "      <td>1.0</td>\n",
       "      <td>35.0</td>\n",
       "      <td>1</td>\n",
       "      <td>1</td>\n",
       "      <td>15.0</td>\n",
       "      <td>240.020</td>\n",
       "      <td>no</td>\n",
       "    </tr>\n",
       "    <tr>\n",
       "      <th>4</th>\n",
       "      <td>3</td>\n",
       "      <td>0</td>\n",
       "      <td>NaN</td>\n",
       "      <td>0</td>\n",
       "      <td>2393</td>\n",
       "      <td>58.0</td>\n",
       "      <td>2.0</td>\n",
       "      <td>33.0</td>\n",
       "      <td>1</td>\n",
       "      <td>1</td>\n",
       "      <td>15.0</td>\n",
       "      <td>145.805</td>\n",
       "      <td>no</td>\n",
       "    </tr>\n",
       "  </tbody>\n",
       "</table>\n",
       "</div>"
      ],
      "text/plain": [
       "  Call  Failure Complains  Subscription  Length Charge  Amount Seconds of Use  \\\n",
       "0             8         0                 -38.0              0           4370   \n",
       "1             O         0                  39.0              0            NaN   \n",
       "2           ooo         0                  37.0              0           2453   \n",
       "3            10         0                  38.0              0           4198   \n",
       "4             3         0                   NaN              0           2393   \n",
       "\n",
       "   Frequency of use  Frequency of SMS  Distinct Called Numbers  Tariff Plan  \\\n",
       "0              71.0               5.0                     17.0            1   \n",
       "1               5.0               7.0                      4.0            1   \n",
       "2              60.0             359.0                     24.0            1   \n",
       "3              66.0               1.0                     35.0            1   \n",
       "4              58.0               2.0                     33.0            1   \n",
       "\n",
       "   Status   Age  Customer Value Churn  \n",
       "0       1  30.0         197.640    no  \n",
       "1       1  25.0          46.035    no  \n",
       "2       1 -30.0        1536.520    no  \n",
       "3       1  15.0         240.020    no  \n",
       "4       1  15.0         145.805    no  "
      ]
     },
     "execution_count": 2,
     "metadata": {},
     "output_type": "execute_result"
    }
   ],
   "source": [
    "#Data Import\n",
    "df = pd.read_csv(\"Data:\\\\Customer_churn_modified.csv\",sep=',')\n",
    "# Quick look at the data\n",
    "df.head()\n"
   ]
  },
  {
   "cell_type": "markdown",
   "id": "35b13a8a",
   "metadata": {},
   "source": [
    "# Exploratory Data Analysis (EDA)"
   ]
  },
  {
   "cell_type": "code",
   "execution_count": 3,
   "id": "85630481",
   "metadata": {},
   "outputs": [
    {
     "name": "stdout",
     "output_type": "stream",
     "text": [
      "<class 'pandas.core.frame.DataFrame'>\n",
      "RangeIndex: 3150 entries, 0 to 3149\n",
      "Data columns (total 13 columns):\n",
      " #   Column                   Non-Null Count  Dtype  \n",
      "---  ------                   --------------  -----  \n",
      " 0   Call  Failure            3138 non-null   object \n",
      " 1   Complains                3137 non-null   object \n",
      " 2   Subscription  Length     3144 non-null   float64\n",
      " 3   Charge  Amount           3148 non-null   object \n",
      " 4   Seconds of Use           3110 non-null   object \n",
      " 5   Frequency of use         3131 non-null   float64\n",
      " 6   Frequency of SMS         3146 non-null   float64\n",
      " 7   Distinct Called Numbers  3148 non-null   float64\n",
      " 8   Tariff Plan              3150 non-null   int64  \n",
      " 9   Status                   3150 non-null   int64  \n",
      " 10  Age                      2909 non-null   float64\n",
      " 11  Customer Value           3057 non-null   float64\n",
      " 12  Churn                    3150 non-null   object \n",
      "dtypes: float64(6), int64(2), object(5)\n",
      "memory usage: 320.1+ KB\n"
     ]
    }
   ],
   "source": [
    "df.info()"
   ]
  },
  {
   "cell_type": "markdown",
   "id": "13f6d634",
   "metadata": {},
   "source": [
    "The dataset contains 13 features.  \n",
    "Column names are inconsistent and need to be renamed for clarity.  \n",
    "Missing values are also present in several features and should be handled."
   ]
  },
  {
   "cell_type": "markdown",
   "id": "c5322781",
   "metadata": {},
   "source": [
    "### Column Renaming"
   ]
  },
  {
   "cell_type": "code",
   "execution_count": 5,
   "id": "1238c861",
   "metadata": {},
   "outputs": [
    {
     "name": "stdout",
     "output_type": "stream",
     "text": [
      "Index(['call_failure', 'complains', 'subscription_length', 'charge_amount',\n",
      "       'seconds_of_use', 'frequency_of_use', 'frequency_of_sms',\n",
      "       'distinct_called_numbers', 'tariff_plan', 'status', 'age',\n",
      "       'customer_value', 'churn'],\n",
      "      dtype='object')\n"
     ]
    }
   ],
   "source": [
    "# Auto-clean column names: lowercase + replace multiple spaces with underscore\n",
    "df.columns = (\n",
    "    df.columns\n",
    "    .str.strip()\n",
    "    .str.lower()\n",
    "    .str.replace(r'\\s+', '_', regex=True)\n",
    ")\n",
    "\n",
    "# Check cleaned columns\n",
    "print(df.columns)\n"
   ]
  },
  {
   "cell_type": "markdown",
   "id": "b5c35163",
   "metadata": {},
   "source": [
    "Column names were standardized to snake_case format for better readability and consistency.  \n",
    "This ensures that feature names are easier to reference in code and follow common data analysis conventions."
   ]
  },
  {
   "cell_type": "code",
   "execution_count": 6,
   "id": "53cdef68",
   "metadata": {},
   "outputs": [
    {
     "data": {
      "text/plain": [
       "Index(['call_failure', 'complains', 'subscription_length', 'charge_amount',\n",
       "       'seconds_of_use', 'frequency_of_use', 'frequency_of_sms',\n",
       "       'distinct_called_numbers', 'tariff_plan', 'status', 'age',\n",
       "       'customer_value', 'churn'],\n",
       "      dtype='object')"
      ]
     },
     "execution_count": 6,
     "metadata": {},
     "output_type": "execute_result"
    }
   ],
   "source": [
    "#print the columns\n",
    "df.columns"
   ]
  },
  {
   "cell_type": "markdown",
   "id": "bc6a1b37",
   "metadata": {},
   "source": [
    "### Creating a Working Copy of the Dataset"
   ]
  },
  {
   "cell_type": "markdown",
   "id": "7cb6ac7c",
   "metadata": {},
   "source": [
    "A copy of the original dataset was created (df_clean) to ensure that the raw data (df) remains intact. \n"
   ]
  },
  {
   "cell_type": "code",
   "execution_count": 7,
   "id": "11f0bf45",
   "metadata": {},
   "outputs": [
    {
     "name": "stdout",
     "output_type": "stream",
     "text": [
      "<class 'pandas.core.frame.DataFrame'>\n",
      "RangeIndex: 3150 entries, 0 to 3149\n",
      "Data columns (total 13 columns):\n",
      " #   Column                   Non-Null Count  Dtype  \n",
      "---  ------                   --------------  -----  \n",
      " 0   call_failure             3138 non-null   object \n",
      " 1   complains                3137 non-null   object \n",
      " 2   subscription_length      3144 non-null   float64\n",
      " 3   charge_amount            3148 non-null   object \n",
      " 4   seconds_of_use           3110 non-null   object \n",
      " 5   frequency_of_use         3131 non-null   float64\n",
      " 6   frequency_of_sms         3146 non-null   float64\n",
      " 7   distinct_called_numbers  3148 non-null   float64\n",
      " 8   tariff_plan              3150 non-null   int64  \n",
      " 9   status                   3150 non-null   int64  \n",
      " 10  age                      2909 non-null   float64\n",
      " 11  customer_value           3057 non-null   float64\n",
      " 12  churn                    3150 non-null   object \n",
      "dtypes: float64(6), int64(2), object(5)\n",
      "memory usage: 320.1+ KB\n",
      "None\n"
     ]
    }
   ],
   "source": [
    "df_clean = df.copy()\n",
    "print(df_clean.info())"
   ]
  },
  {
   "cell_type": "markdown",
   "id": "0a7c48a8",
   "metadata": {},
   "source": [
    "# checking for duplicates:"
   ]
  },
  {
   "cell_type": "code",
   "execution_count": 8,
   "id": "dd4905d4",
   "metadata": {},
   "outputs": [
    {
     "name": "stdout",
     "output_type": "stream",
     "text": [
      "Number of duplicated rows: 89\n"
     ]
    }
   ],
   "source": [
    "duplicate_count = df_clean.duplicated().sum()\n",
    "print(f\"Number of duplicated rows: {duplicate_count}\")"
   ]
  },
  {
   "cell_type": "markdown",
   "id": "02f157a2",
   "metadata": {},
   "source": [
    "There are 89 fully duplicated rows in the dataset.  \n",
    "Since there is no unique identifier (such as a customer ID), it is not clear whether these rows represent true duplicates or valid repeated observations.  \n",
    "Therefore, I decided **not to drop them** at this stage.\n"
   ]
  },
  {
   "cell_type": "markdown",
   "id": "eb223dd5",
   "metadata": {},
   "source": [
    "# Data Cleaning Process"
   ]
  },
  {
   "cell_type": "markdown",
   "id": "1585cf63",
   "metadata": {},
   "source": [
    "Data Cleaning Process:\n",
    "Handling Missing Values, Erroneous Entries, and Data Types\n",
    "\n",
    "For the columns that required cleaning, I applied a three–step process individually:\n",
    "\n",
    "Initial Inspection – I used the custom function \"data_clean()\" to check missing values, erroneous entries, and data types.\n",
    "\n",
    "Correction Decisions – Based on the inspection results, I decided on the necessary transformations (handling missing values, correcting invalid entries, adjusting data types, etc.).\n",
    "\n",
    "Result Validation – I used the \"result_cleaning()\" function to display the cleaned data and re-checked if further adjustments were needed.\n",
    "\n",
    "This iterative approach ensured that each column was properly cleaned and transformed before moving to the next one.\n",
    "\n",
    "And finally، draw boxplots for numeric columns to identify potential outlier values values. "
   ]
  },
  {
   "cell_type": "markdown",
   "id": "bce23ce4",
   "metadata": {},
   "source": [
    "### Define data_cleaning function\n"
   ]
  },
  {
   "cell_type": "code",
   "execution_count": 9,
   "id": "2a2badac",
   "metadata": {},
   "outputs": [],
   "source": [
    "def data_cleaning(col_name, df=df_clean):\n",
    "    \"\"\"\n",
    "    Analyze a single column for missing values and data Erroneous Entries, and Data Types.\n",
    "\n",
    "    Parameters:\n",
    "    col_name (str): Name of the column to analyze\n",
    "    df (DataFrame): The dataframe containing the column\n",
    "\n",
    "    Outputs:\n",
    "    - Number of missing values\n",
    "    - Unique value counts\n",
    "    - Descriptive statistics for numerical columns\n",
    "    \"\"\"\n",
    "    print(f\"### Analyzing '{col_name}' ###\\n\")\n",
    "    \n",
    "    # Number of Missing Values\n",
    "    print(\"Missing values:\", df[col_name].isna().sum())\n",
    "    \n",
    "    # Unique Values and Their Counts\n",
    "    print(\"\\nUnique Values:\")\n",
    "    print(df[col_name].unique())\n",
    "\n",
    "    print(\"\\nTheir Counts:\")\n",
    "    print(df[col_name].value_counts())\n",
    "    \n",
    "    # Column Type \n",
    "    print(\"Type:\", df[col_name].dtype)\n",
    "    \n",
    "    \n",
    "    print(\"\\n\" + \"-\"*50 + \"\\n\")\n"
   ]
  },
  {
   "cell_type": "markdown",
   "id": "b018a583",
   "metadata": {},
   "source": [
    "### Define result_cleaning function"
   ]
  },
  {
   "cell_type": "code",
   "execution_count": 10,
   "id": "ce406102",
   "metadata": {},
   "outputs": [],
   "source": [
    "def result_cleaning(col_name,df=df_clean):\n",
    "    print('na_number =' ,df[col_name].isna().sum())\n",
    "    print(df[col_name].unique())\n",
    "    print(df[col_name].describe())\n",
    "    print('type of column:',df[col_name].dtype)\n",
    "\n",
    "   \n"
   ]
  },
  {
   "cell_type": "markdown",
   "id": "2a988c1e",
   "metadata": {},
   "source": [
    "### Cleaning the 'call_failure' Feature"
   ]
  },
  {
   "cell_type": "markdown",
   "id": "44efe5f0",
   "metadata": {},
   "source": [
    "The column `call_failure` was converted to a numeric type using `pd.to_numeric()`.  \n",
    "Non-numeric entries were coerced into `NaN` and then replaced with `0`.  \n",
    "Finally, the column was cast to `int` to ensure consistency.  \n",
    "After cleaning, the distribution of values was checked using `.unique()` and `.value_counts()`."
   ]
  },
  {
   "cell_type": "code",
   "execution_count": 11,
   "id": "c4215970",
   "metadata": {},
   "outputs": [
    {
     "name": "stdout",
     "output_type": "stream",
     "text": [
      "### Analyzing 'call_failure' ###\n",
      "\n",
      "Missing values: 12\n",
      "\n",
      "Unique Values:\n",
      "['8' 'O' 'ooo' '10' '3' '11' '4' '13' '7' '6' 'o' '25' '9' '0' '2' '23'\n",
      " '21' '1' '16' '12' '14' '28' '5' '26' '24' '19' '15' '22' '20' '18' '17'\n",
      " '0.001' nan '30' '0.000001' '27' '0.05' '29' '-0.05' '3$^' '31'\n",
      " '-0.0000009' '33' '35' '32' '34' '36']\n",
      "\n",
      "Their Counts:\n",
      "call_failure\n",
      "0             663\n",
      "5             244\n",
      "7             166\n",
      "6             161\n",
      "8             156\n",
      "9             148\n",
      "3             140\n",
      "2             137\n",
      "4             133\n",
      "11            125\n",
      "10            123\n",
      "1             121\n",
      "13             99\n",
      "12             97\n",
      "14             85\n",
      "15             69\n",
      "16             67\n",
      "18             53\n",
      "17             45\n",
      "20             37\n",
      "19             33\n",
      "21             29\n",
      "23             25\n",
      "22             21\n",
      "25             21\n",
      "26             17\n",
      "28             17\n",
      "24             16\n",
      "30             16\n",
      "O              13\n",
      "27             13\n",
      "32              8\n",
      "29              7\n",
      "o               6\n",
      "31              6\n",
      "-0.0000009      4\n",
      "34              3\n",
      "33              3\n",
      "ooo             2\n",
      "35              2\n",
      "36              2\n",
      "0.000001        1\n",
      "-0.05           1\n",
      "0.05            1\n",
      "0.001           1\n",
      "3$^             1\n",
      "Name: count, dtype: int64\n",
      "Type: object\n",
      "\n",
      "--------------------------------------------------\n",
      "\n"
     ]
    }
   ],
   "source": [
    "data_cleaning('call_failure')"
   ]
  },
  {
   "cell_type": "code",
   "execution_count": 12,
   "id": "2ba1b227",
   "metadata": {},
   "outputs": [],
   "source": [
    "df_clean['call_failure'] = pd.to_numeric(df_clean['call_failure'], errors='coerce').fillna(0).astype(int)\n"
   ]
  },
  {
   "cell_type": "code",
   "execution_count": 13,
   "id": "6775e3bc",
   "metadata": {},
   "outputs": [
    {
     "name": "stdout",
     "output_type": "stream",
     "text": [
      "na_number = 0\n",
      "[ 8  0 10  3 11  4 13  7  6 25  9  2 23 21  1 16 12 14 28  5 26 24 19 15\n",
      " 22 20 18 17 30 27 29 31 33 35 32 34 36]\n",
      "count    3150.000000\n",
      "mean        7.620952\n",
      "std         7.267065\n",
      "min         0.000000\n",
      "25%         1.000000\n",
      "50%         6.000000\n",
      "75%        12.000000\n",
      "max        36.000000\n",
      "Name: call_failure, dtype: float64\n",
      "type of column: int64\n"
     ]
    }
   ],
   "source": [
    "result_cleaning('call_failure')"
   ]
  },
  {
   "cell_type": "markdown",
   "id": "ff734004",
   "metadata": {},
   "source": [
    "### Cleaning the 'complains' Feature"
   ]
  },
  {
   "cell_type": "code",
   "execution_count": 14,
   "id": "cb813a0c",
   "metadata": {},
   "outputs": [
    {
     "name": "stdout",
     "output_type": "stream",
     "text": [
      "### Analyzing 'complains' ###\n",
      "\n",
      "Missing values: 13\n",
      "\n",
      "Unique Values:\n",
      "['0' '1' '-1' nan '11' '-112' 'o' '-11' 'OO' 'O' '1999' '-18' '111111111']\n",
      "\n",
      "Their Counts:\n",
      "complains\n",
      "0            2859\n",
      "1             231\n",
      "OO             18\n",
      "o              12\n",
      "O               7\n",
      "-1              4\n",
      "11              1\n",
      "-112            1\n",
      "-11             1\n",
      "1999            1\n",
      "-18             1\n",
      "111111111       1\n",
      "Name: count, dtype: int64\n",
      "Type: object\n",
      "\n",
      "--------------------------------------------------\n",
      "\n"
     ]
    }
   ],
   "source": [
    "data_cleaning('complains')"
   ]
  },
  {
   "cell_type": "markdown",
   "id": "0b59d7c3",
   "metadata": {},
   "source": [
    "The column `complains` is expected to be binary (0 = no complaint, 1 = complaint).  \n",
    "All non-zero values were considered erroneous and replaced with `1` to enforce consistency. \n",
    "(t was assumed that if the user did not enter any data or provided an invalid value, it meant a complaint.) \n",
    "The distribution was re-checked to confirm that only `0` and `1` remain."
   ]
  },
  {
   "cell_type": "code",
   "execution_count": 15,
   "id": "4801f7b7",
   "metadata": {},
   "outputs": [],
   "source": [
    "df_clean['complains'] = pd.to_numeric(df_clean['complains'], errors='coerce')\n",
    "df_clean['complains'] = df_clean['complains'].fillna(1)\n",
    "df_clean.loc[df_clean['complains'] != 0, 'complains'] = 1\n",
    "df_clean['complains'] = df_clean['complains'].astype(int)\n"
   ]
  },
  {
   "cell_type": "code",
   "execution_count": 16,
   "id": "832deeff",
   "metadata": {},
   "outputs": [
    {
     "name": "stdout",
     "output_type": "stream",
     "text": [
      "na_number = 0\n",
      "[0 1]\n",
      "count    3150.000000\n",
      "mean        0.092381\n",
      "std         0.289609\n",
      "min         0.000000\n",
      "25%         0.000000\n",
      "50%         0.000000\n",
      "75%         0.000000\n",
      "max         1.000000\n",
      "Name: complains, dtype: float64\n",
      "type of column: int64\n"
     ]
    }
   ],
   "source": [
    "result_cleaning('complains')"
   ]
  },
  {
   "cell_type": "code",
   "execution_count": 17,
   "id": "bd97243b",
   "metadata": {},
   "outputs": [
    {
     "data": {
      "image/png": "[encoded data removed]",
      "text/plain": [
       "<Figure size 640x480 with 1 Axes>"
      ]
     },
     "metadata": {},
     "output_type": "display_data"
    }
   ],
   "source": [
    "#Visualizing the complains Distribution\n",
    "sns.countplot(x='complains', data=df_clean)\n",
    "plt.title('Complains Distribution')\n",
    "plt.show()\n"
   ]
  },
  {
   "cell_type": "markdown",
   "id": "64fc369e",
   "metadata": {},
   "source": [
    "The plot clearly shows how many users had complaints versus those who didn’t, helping identify any class imbalance in this binary feature."
   ]
  },
  {
   "cell_type": "markdown",
   "id": "28191688",
   "metadata": {},
   "source": [
    "### Cleaning the 'subscription_length' Feature"
   ]
  },
  {
   "cell_type": "code",
   "execution_count": 18,
   "id": "3877b98f",
   "metadata": {},
   "outputs": [
    {
     "name": "stdout",
     "output_type": "stream",
     "text": [
      "### Analyzing 'subscription_length' ###\n",
      "\n",
      "Missing values: 6\n",
      "\n",
      "Unique Values:\n",
      "[-38.      39.      37.      38.          nan -37.      33.      36.\n",
      "  34.      35.      31.      26.      27.      25.      17.      15.\n",
      "  16.       9.      40.      41.     -40.      39.001   29.      28.\n",
      "  20.      19.      18.      11.      36.0009  32.      24.      23.\n",
      "  13.      14.       7.      42.      43.      30.      22.      21.\n",
      "  12.       5.      44.      45.      10.       3.       6.       8.\n",
      "   4.     -35.      46.      47.    ]\n",
      "\n",
      "Their Counts:\n",
      "subscription_length\n",
      " 36.0000    275\n",
      " 38.0000    256\n",
      " 37.0000    225\n",
      " 35.0000    225\n",
      " 34.0000    201\n",
      " 39.0000    198\n",
      " 40.0000    182\n",
      " 33.0000    152\n",
      " 32.0000    121\n",
      " 41.0000    110\n",
      " 31.0000    104\n",
      " 42.0000     80\n",
      " 30.0000     80\n",
      " 29.0000     73\n",
      " 28.0000     59\n",
      " 43.0000     56\n",
      " 27.0000     56\n",
      " 25.0000     52\n",
      " 26.0000     45\n",
      " 44.0000     44\n",
      " 24.0000     40\n",
      " 23.0000     39\n",
      " 17.0000     32\n",
      " 15.0000     31\n",
      " 18.0000     30\n",
      " 16.0000     30\n",
      " 19.0000     29\n",
      " 20.0000     28\n",
      " 22.0000     26\n",
      " 11.0000     26\n",
      " 14.0000     25\n",
      " 21.0000     25\n",
      " 13.0000     24\n",
      " 45.0000     23\n",
      " 9.0000      22\n",
      " 12.0000     19\n",
      " 7.0000      19\n",
      " 10.0000     16\n",
      " 46.0000     13\n",
      " 8.0000      12\n",
      " 6.0000       8\n",
      " 3.0000       8\n",
      " 5.0000       6\n",
      " 4.0000       4\n",
      "-37.0000      3\n",
      "-35.0000      3\n",
      "-40.0000      3\n",
      " 39.0010      3\n",
      "-38.0000      1\n",
      " 36.0009      1\n",
      " 47.0000      1\n",
      "Name: count, dtype: int64\n",
      "Type: float64\n",
      "\n",
      "--------------------------------------------------\n",
      "\n"
     ]
    }
   ],
   "source": [
    "data_cleaning('subscription_length')"
   ]
  },
  {
   "cell_type": "code",
   "execution_count": 19,
   "id": "90a51b08",
   "metadata": {},
   "outputs": [],
   "source": [
    "df_clean['subscription_length'] = df_clean['subscription_length'].abs()\n",
    "df_clean['subscription_length'] = df_clean['subscription_length'].fillna(df_clean['subscription_length'].mean())\n",
    "df_clean['subscription_length'] = df_clean['subscription_length'].astype(int)\n"
   ]
  },
  {
   "cell_type": "markdown",
   "id": "4dac3183",
   "metadata": {},
   "source": [
    "\"Negative values in the 'subscription_length' column were first converted to their absolute values to ensure logical consistency. Then, missing values were imputed with the column mean.\"\n"
   ]
  },
  {
   "cell_type": "code",
   "execution_count": 20,
   "id": "8d8fdc26",
   "metadata": {},
   "outputs": [
    {
     "name": "stdout",
     "output_type": "stream",
     "text": [
      "na_number = 0\n",
      "[38 39 37 32 33 36 34 35 31 26 27 25 17 15 16  9 40 41 29 28 20 19 18 11\n",
      " 24 23 13 14  7 42 43 30 22 21 12  5 44 45 10  3  6  8  4 46 47]\n",
      "count    3150.000000\n",
      "mean       32.544444\n",
      "std         8.565724\n",
      "min         3.000000\n",
      "25%        30.000000\n",
      "50%        35.000000\n",
      "75%        38.000000\n",
      "max        47.000000\n",
      "Name: subscription_length, dtype: float64\n",
      "type of column: int64\n"
     ]
    }
   ],
   "source": [
    "result_cleaning('subscription_length')"
   ]
  },
  {
   "cell_type": "markdown",
   "id": "efe7c47f",
   "metadata": {},
   "source": [
    "### Cleaning the 'charge_amount' Feature"
   ]
  },
  {
   "cell_type": "code",
   "execution_count": 21,
   "id": "0aa25ef7",
   "metadata": {},
   "outputs": [
    {
     "name": "stdout",
     "output_type": "stream",
     "text": [
      "### Analyzing 'charge_amount' ###\n",
      "\n",
      "Missing values: 2\n",
      "\n",
      "Unique Values:\n",
      "['0' '-1' '2' '1' '-3' 'OOO' '8' '3' '4' '9' '7' '5' '10' '6' '-9' 'o'\n",
      " '2.00001' 'o0' 'o1' 'o2' 'o3' 'o4' 'o5' 'o6' 'o7' 'o8' nan 'OO']\n",
      "\n",
      "Their Counts:\n",
      "charge_amount\n",
      "0          1755\n",
      "1           616\n",
      "2           393\n",
      "3           198\n",
      "4            76\n",
      "5            30\n",
      "8            19\n",
      "7            14\n",
      "9            13\n",
      "6            11\n",
      "10            7\n",
      "-3            1\n",
      "OOO           1\n",
      "-1            1\n",
      "-9            1\n",
      "o             1\n",
      "2.00001       1\n",
      "o0            1\n",
      "o1            1\n",
      "o2            1\n",
      "o3            1\n",
      "o4            1\n",
      "o5            1\n",
      "o6            1\n",
      "o7            1\n",
      "o8            1\n",
      "OO            1\n",
      "Name: count, dtype: int64\n",
      "Type: object\n",
      "\n",
      "--------------------------------------------------\n",
      "\n"
     ]
    }
   ],
   "source": [
    "data_cleaning('charge_amount')"
   ]
  },
  {
   "cell_type": "code",
   "execution_count": 22,
   "id": "2f40c80b",
   "metadata": {},
   "outputs": [],
   "source": [
    "#Replace incorrect values with correct values\n",
    "\n",
    "df_clean['charge_amount'] = df_clean['charge_amount'].replace(['OOO','OO','0','o','o0'], 0 )\n",
    "df_clean['charge_amount'] = df_clean['charge_amount'].replace(['o1'], 1)\n",
    "df_clean['charge_amount'] = df_clean['charge_amount'].replace(['o7'], 7 )\n",
    "df_clean['charge_amount'] = df_clean['charge_amount'].replace(['o2'], 2)\n",
    "df_clean['charge_amount'] = df_clean['charge_amount'].replace(['o4'], 4 )\n",
    "df_clean['charge_amount'] = df_clean['charge_amount'].replace(['o8'], 8 )\n",
    "df_clean['charge_amount'] = df_clean['charge_amount'].replace(['o5'], 5 )\n",
    "df_clean['charge_amount'] = df_clean['charge_amount'].replace(['o3'], 3)\n",
    "df_clean['charge_amount'] = df_clean['charge_amount'].replace(['o6'], 6 )\n",
    "df_clean['charge_amount'] = df_clean['charge_amount'].replace(['2.00001'], 2 )"
   ]
  },
  {
   "cell_type": "code",
   "execution_count": 23,
   "id": "065cc0ea",
   "metadata": {},
   "outputs": [],
   "source": [
    "df_clean['charge_amount'] = df_clean['charge_amount'].fillna(0).astype(int).abs()"
   ]
  },
  {
   "cell_type": "markdown",
   "id": "85fddb47",
   "metadata": {},
   "source": [
    "charge_amount' column: incorrect values were corrected and NaN values were replaced with 0."
   ]
  },
  {
   "cell_type": "code",
   "execution_count": 24,
   "id": "a74480cd",
   "metadata": {},
   "outputs": [
    {
     "name": "stdout",
     "output_type": "stream",
     "text": [
      "na_number = 0\n",
      "[ 0  1  2  3  8  4  9  7  5 10  6]\n",
      "count    3150.000000\n",
      "mean        0.953651\n",
      "std         1.535153\n",
      "min         0.000000\n",
      "25%         0.000000\n",
      "50%         0.000000\n",
      "75%         1.000000\n",
      "max        10.000000\n",
      "Name: charge_amount, dtype: float64\n",
      "type of column: int64\n"
     ]
    }
   ],
   "source": [
    "result_cleaning('charge_amount')"
   ]
  },
  {
   "cell_type": "markdown",
   "id": "eb3e9565",
   "metadata": {},
   "source": [
    "### Cleaning the 'seconds_of_use' Feature"
   ]
  },
  {
   "cell_type": "code",
   "execution_count": 25,
   "id": "a320858f",
   "metadata": {},
   "outputs": [
    {
     "name": "stdout",
     "output_type": "stream",
     "text": [
      "### Analyzing 'seconds_of_use' ###\n",
      "\n",
      "Missing values: 40\n",
      "\n",
      "Unique Values:\n",
      "['4370' nan '2453' ... '8527' '2447' '1082']\n",
      "\n",
      "Their Counts:\n",
      "seconds_of_use\n",
      "0        131\n",
      "305       37\n",
      "1973       9\n",
      "1015       9\n",
      "710        9\n",
      "        ... \n",
      "13368      1\n",
      "1833       1\n",
      "14735      1\n",
      "2690       1\n",
      "1082       1\n",
      "Name: count, Length: 1764, dtype: int64\n",
      "Type: object\n",
      "\n",
      "--------------------------------------------------\n",
      "\n"
     ]
    }
   ],
   "source": [
    "data_cleaning('seconds_of_use')"
   ]
  },
  {
   "cell_type": "code",
   "execution_count": 26,
   "id": "a5df082b",
   "metadata": {},
   "outputs": [],
   "source": [
    "df_clean['seconds_of_use'] = df_clean['seconds_of_use'].replace(['O3915'], 3915)\n",
    "df_clean['seconds_of_use'] = pd.to_numeric(df_clean['seconds_of_use'], errors='coerce')\n",
    "df_clean['seconds_of_use'] = df_clean['seconds_of_use'].abs()\n",
    "df_clean['seconds_of_use'] = df_clean['seconds_of_use'].fillna(df_clean['seconds_of_use'].median())\n",
    "df_clean['seconds_of_use'] = df_clean['seconds_of_use'].astype(int)\n"
   ]
  },
  {
   "cell_type": "markdown",
   "id": "21b5691e",
   "metadata": {},
   "source": [
    "For cleaning the seconds_of_use column, the erroneous entry 'O3915' was corrected to 3915.\n",
    "The column was then converted to numeric, negative values were replaced with their absolute values, and missing values were filled with the column median (to reduce the impact of potential outliers)."
   ]
  },
  {
   "cell_type": "code",
   "execution_count": 27,
   "id": "1695c4f9",
   "metadata": {},
   "outputs": [
    {
     "name": "stdout",
     "output_type": "stream",
     "text": [
      "na_number = 0\n",
      "[4370 3030 2453 ... 8527 2447 1082]\n",
      "count     3150.000000\n",
      "mean      4488.200000\n",
      "std       4175.183592\n",
      "min          0.000000\n",
      "25%       1450.750000\n",
      "50%       3030.000000\n",
      "75%       6467.000000\n",
      "max      17090.000000\n",
      "Name: seconds_of_use, dtype: float64\n",
      "type of column: int64\n"
     ]
    }
   ],
   "source": [
    "result_cleaning('seconds_of_use')"
   ]
  },
  {
   "cell_type": "markdown",
   "id": "433aa2f1",
   "metadata": {},
   "source": [
    "### Cleaning the 'frequency_of_use','frequency_of_sms','distinct_called_numbers' Feature"
   ]
  },
  {
   "cell_type": "code",
   "execution_count": 28,
   "id": "a0dffb8d",
   "metadata": {},
   "outputs": [
    {
     "data": {
      "text/plain": [
       "['frequency_of_use', 'frequency_of_sms', 'distinct_called_numbers']"
      ]
     },
     "execution_count": 28,
     "metadata": {},
     "output_type": "execute_result"
    }
   ],
   "source": [
    "cols = list(df_clean.iloc[:,[5,6,7]].columns)\n",
    "cols"
   ]
  },
  {
   "cell_type": "code",
   "execution_count": 29,
   "id": "443e5441",
   "metadata": {},
   "outputs": [],
   "source": [
    "# Imputing mean values in place of null values\n",
    "for c in cols:\n",
    "    df_clean[c] = df_clean[c].abs()\n",
    "    mean_column = df_clean[c].mean()\n",
    "    df_clean[c] = df_clean[c].fillna(mean_column)\n",
    "    df_clean[c] = df_clean[c].astype(int)"
   ]
  },
  {
   "cell_type": "markdown",
   "id": "a73597ed",
   "metadata": {},
   "source": [
    "For the columns frequency_of_use, frequency_of_sms, and distinct_called_numbers, missing values were imputed with the mean of each column.\n",
    "Additionally, negative values (likely due to data entry errors) were replaced with their absolute values, ensuring that all features remained consistent and non-negative.\n",
    "Finally, the columns were converted to integer type for proper representation.\n"
   ]
  },
  {
   "cell_type": "code",
   "execution_count": 30,
   "id": "04b9c943",
   "metadata": {},
   "outputs": [
    {
     "name": "stdout",
     "output_type": "stream",
     "text": [
      "### Analyzing 'frequency_of_use' ###\n",
      "\n",
      "Missing values: 0\n",
      "\n",
      "Unique Values:\n",
      "[ 71   5  60  66  58  82  39 121 169  83  95  54 225  27 182  86  14  69\n",
      " 127 154  75  47  93  98  22  41  44   2  25  97   7   4 238 116  53  36\n",
      "  10  32  61  26 141 171  45  40  19  74   8  63  85  42 124 172  57 228\n",
      "  30 185  89  17   3 130 157  78  50  96 101  28 100 241 119  56  13  35\n",
      "  64  29 144 174  48  43  68  55  79 118 166  80  92  51 222  24 179  11\n",
      " 151  72  90  38   0  94 235 113  33  23 138 168  37  16  73  62  84 123\n",
      " 227 184  88 129 156  77  49  46  99   9   6 240  12  34 143 173  21 167\n",
      "  81  52 223 180 125 152  91  20 236 114  59 139  15  70  76 131 105 192\n",
      " 137 164 103 108 107 248 126 181 111 159 215 117  65  31  87 106 161 177\n",
      " 233 190 135 162 246  18 149 217 146  67 230 133 163 175 231 188 160 104\n",
      " 244 122 147 115 219 176 148   1 232 110 165 170 226 183 128 155 239 142\n",
      " 120 224 153 237 140 132 193 109 249 158 214 112 216 145 229 221 178 150\n",
      " 234 186 102 242 209 211 213 220 136 218 134 187 243 208 191 247 198 254\n",
      " 196 252 194 250 189 245 199 255]\n",
      "\n",
      "Their Counts:\n",
      "frequency_of_use\n",
      "0      136\n",
      "6       48\n",
      "44      38\n",
      "39      37\n",
      "69      36\n",
      "      ... \n",
      "196      1\n",
      "189      1\n",
      "245      1\n",
      "199      1\n",
      "255      1\n",
      "Name: count, Length: 242, dtype: int64\n",
      "Type: int64\n",
      "\n",
      "--------------------------------------------------\n",
      "\n"
     ]
    }
   ],
   "source": [
    "data_cleaning('frequency_of_use')"
   ]
  },
  {
   "cell_type": "code",
   "execution_count": 31,
   "id": "3b2cdc12",
   "metadata": {},
   "outputs": [
    {
     "name": "stdout",
     "output_type": "stream",
     "text": [
      "### Analyzing 'frequency_of_sms' ###\n",
      "\n",
      "Missing values: 0\n",
      "\n",
      "Unique Values:\n",
      "[  5   7 359   1   2  32 285 144  73   8  54 483 150 186   0  13 384  11\n",
      " 108  16  26   9  34  14   4 271  38 175 193  30  10  21  19  28  85  31\n",
      " 215  12 364   6  37 290 149  59 488 155 191  18 389 113  39 276  43 180\n",
      " 198  35  15  24  33  90  78  36 220 354  27 280 139   3  49 478 145 181\n",
      " 379 103  29 266 170 188  25  23  80  68 210  17 369  42 295 154  64 493\n",
      " 160 196 394 118  44 281  48 185 203  40  20  95  83  41 225 349  22 275\n",
      " 134 473 140 176 374  98 261 165 183  75  63 205  47 300 159  69 498 201\n",
      " 399 123 286  53 190 208  45 100  88  46 230 344 270 129 468 135 171  93\n",
      " 256 178  70  58 200 370 296  65 494 161 197 395 119 282 204  96  84 226\n",
      " 348 274 133 472 373  97 260 164 182  74  62 380 306 504 207 405  55 292\n",
      " 214  51 106  94  52 236 338 264 462 363  87 250 172 194 391 317  86 515\n",
      " 218 416  66 303  60 117 105 247 327 253 112 451 352  76 239 143 368 294\n",
      " 153 492 195 393 184 202  82 224 350 474 141 177 375  99 262 166 206 351\n",
      " 277 136 475 142 376 263 167  77 367 293 152 491 158 392 116 279  81 223\n",
      " 334 458 125 246 168 278 137 476 179 377 101 357 283 481 148 382 269 173\n",
      "  71 213 347 273 132 471 138 174 372 259 163  61 362 288 147  57 486 189\n",
      " 387 111 342 268 127 466 169  91 254  56 337 122 461 128 249 289 487 388\n",
      "  89 219 341 267 126 465 366 157  67 299 497 398 229 331 257 455 356 243\n",
      " 187 310  79 508 211 409 110 240 320 444 345 232 361 287 146 485 386 217\n",
      " 343 467  92 255 199 360 484 151 385 109 272 216 490 115 222 371 297 156\n",
      " 495 162 396 120  50 227 302 500 401 192 102 480 381 212 307 505 406 130\n",
      " 107 237  72 501 402 233 355 479 104 313 511 412 221 469 324 522 423 124\n",
      " 301 499 400 209 231 358 284 482 383]\n",
      "\n",
      "Their Counts:\n",
      "frequency_of_sms\n",
      "0      599\n",
      "7      194\n",
      "9       54\n",
      "15      54\n",
      "8       54\n",
      "      ... \n",
      "358      1\n",
      "482      1\n",
      "295      1\n",
      "493      1\n",
      "383      1\n",
      "Name: count, Length: 405, dtype: int64\n",
      "Type: int64\n",
      "\n",
      "--------------------------------------------------\n",
      "\n"
     ]
    }
   ],
   "source": [
    "data_cleaning('frequency_of_sms')\n"
   ]
  },
  {
   "cell_type": "code",
   "execution_count": 32,
   "id": "ece3ec85",
   "metadata": {},
   "outputs": [
    {
     "name": "stdout",
     "output_type": "stream",
     "text": [
      "### Analyzing 'distinct_called_numbers' ###\n",
      "\n",
      "Missing values: 0\n",
      "\n",
      "Unique Values:\n",
      "[17  4 24 35 33  0 18 43 44 25 12 32  8 30 26 11 47 37 42 14 16 31  2  6\n",
      " 22 80 28 20 23 68  7  3 13 40 19 10 45 46 27 34 49 39 82 70  9  5 15 41\n",
      " 29 78 66  1 21 38 48 36 51 84 72 76 64 50 53 86 74 62 52 85 73 75 63 58\n",
      " 59 57 95 83 55 65 71 77 79 67 81 69 60 61 56 93 88 54 87 97]\n",
      "\n",
      "Their Counts:\n",
      "distinct_called_numbers\n",
      "0     155\n",
      "2      88\n",
      "10     78\n",
      "15     77\n",
      "6      76\n",
      "     ... \n",
      "95      1\n",
      "93      1\n",
      "88      1\n",
      "87      1\n",
      "97      1\n",
      "Name: count, Length: 92, dtype: int64\n",
      "Type: int64\n",
      "\n",
      "--------------------------------------------------\n",
      "\n"
     ]
    }
   ],
   "source": [
    "data_cleaning('distinct_called_numbers')"
   ]
  },
  {
   "cell_type": "markdown",
   "id": "16dbf586",
   "metadata": {},
   "source": [
    "### Cleaning the 'customer_value' Feature"
   ]
  },
  {
   "cell_type": "code",
   "execution_count": 33,
   "id": "89c624de",
   "metadata": {},
   "outputs": [
    {
     "name": "stdout",
     "output_type": "stream",
     "text": [
      "### Analyzing 'customer_value' ###\n",
      "\n",
      "Missing values: 93\n",
      "\n",
      "Unique Values:\n",
      "[ 197.64    46.035 1536.52  ...  261.21   280.32   100.68 ]\n",
      "\n",
      "Their Counts:\n",
      "customer_value\n",
      "0.000       40\n",
      "45.495      11\n",
      "40.440      10\n",
      "15.165       6\n",
      "25.275       5\n",
      "            ..\n",
      "2022.885     1\n",
      "42.390       1\n",
      "36.315       1\n",
      "964.160      1\n",
      "1331.325     1\n",
      "Name: count, Length: 2653, dtype: int64\n",
      "Type: float64\n",
      "\n",
      "--------------------------------------------------\n",
      "\n"
     ]
    }
   ],
   "source": [
    "data_cleaning('customer_value')"
   ]
  },
  {
   "cell_type": "code",
   "execution_count": 34,
   "id": "78e1c7b3",
   "metadata": {},
   "outputs": [],
   "source": [
    "df_clean['customer_value'] = df_clean['customer_value'].fillna(df_clean['customer_value'].median())"
   ]
  },
  {
   "cell_type": "markdown",
   "id": "03e48fcf",
   "metadata": {},
   "source": [
    "For the customer_value column, missing values were imputed with the median of the column to reduce the influence of potential outliers.\n",
    "The column was kept as float64 to preserve its continuous nature."
   ]
  },
  {
   "cell_type": "code",
   "execution_count": 35,
   "id": "23efa0fc",
   "metadata": {},
   "outputs": [
    {
     "name": "stdout",
     "output_type": "stream",
     "text": [
      "na_number = 0\n",
      "[ 197.64    46.035 1536.52  ...  261.21   280.32   100.68 ]\n",
      "count    3150.000000\n",
      "mean      477.858073\n",
      "std       512.234600\n",
      "min         0.000000\n",
      "25%       124.570000\n",
      "50%       237.600000\n",
      "75%       788.388750\n",
      "max      2165.280000\n",
      "Name: customer_value, dtype: float64\n",
      "type of column: float64\n"
     ]
    }
   ],
   "source": [
    "result_cleaning('customer_value')"
   ]
  },
  {
   "cell_type": "markdown",
   "id": "21bb31a7",
   "metadata": {},
   "source": [
    "# Overview Of Data"
   ]
  },
  {
   "cell_type": "code",
   "execution_count": 36,
   "id": "3c24180f",
   "metadata": {},
   "outputs": [
    {
     "name": "stdout",
     "output_type": "stream",
     "text": [
      "<class 'pandas.core.frame.DataFrame'>\n",
      "RangeIndex: 3150 entries, 0 to 3149\n",
      "Data columns (total 13 columns):\n",
      " #   Column                   Non-Null Count  Dtype  \n",
      "---  ------                   --------------  -----  \n",
      " 0   call_failure             3150 non-null   int64  \n",
      " 1   complains                3150 non-null   int64  \n",
      " 2   subscription_length      3150 non-null   int64  \n",
      " 3   charge_amount            3150 non-null   int64  \n",
      " 4   seconds_of_use           3150 non-null   int64  \n",
      " 5   frequency_of_use         3150 non-null   int64  \n",
      " 6   frequency_of_sms         3150 non-null   int64  \n",
      " 7   distinct_called_numbers  3150 non-null   int64  \n",
      " 8   tariff_plan              3150 non-null   int64  \n",
      " 9   status                   3150 non-null   int64  \n",
      " 10  age                      2909 non-null   float64\n",
      " 11  customer_value           3150 non-null   float64\n",
      " 12  churn                    3150 non-null   object \n",
      "dtypes: float64(2), int64(10), object(1)\n",
      "memory usage: 320.1+ KB\n"
     ]
    }
   ],
   "source": [
    "df_clean.info()"
   ]
  },
  {
   "cell_type": "code",
   "execution_count": 37,
   "id": "448d169f",
   "metadata": {},
   "outputs": [
    {
     "data": {
      "text/html": [
       "<div>\n",
       "<style scoped>\n",
       "    .dataframe tbody tr th:only-of-type {\n",
       "        vertical-align: middle;\n",
       "    }\n",
       "\n",
       "    .dataframe tbody tr th {\n",
       "        vertical-align: top;\n",
       "    }\n",
       "\n",
       "    .dataframe thead th {\n",
       "        text-align: right;\n",
       "    }\n",
       "</style>\n",
       "<table border=\"1\" class=\"dataframe\">\n",
       "  <thead>\n",
       "    <tr style=\"text-align: right;\">\n",
       "      <th></th>\n",
       "      <th>call_failure</th>\n",
       "      <th>complains</th>\n",
       "      <th>subscription_length</th>\n",
       "      <th>charge_amount</th>\n",
       "      <th>seconds_of_use</th>\n",
       "      <th>frequency_of_use</th>\n",
       "      <th>frequency_of_sms</th>\n",
       "      <th>distinct_called_numbers</th>\n",
       "      <th>tariff_plan</th>\n",
       "      <th>status</th>\n",
       "      <th>age</th>\n",
       "      <th>customer_value</th>\n",
       "    </tr>\n",
       "  </thead>\n",
       "  <tbody>\n",
       "    <tr>\n",
       "      <th>count</th>\n",
       "      <td>3150.000000</td>\n",
       "      <td>3150.000000</td>\n",
       "      <td>3150.000000</td>\n",
       "      <td>3150.000000</td>\n",
       "      <td>3150.000000</td>\n",
       "      <td>3150.000000</td>\n",
       "      <td>3150.000000</td>\n",
       "      <td>3150.000000</td>\n",
       "      <td>3150.000000</td>\n",
       "      <td>3150.000000</td>\n",
       "      <td>2909.000000</td>\n",
       "      <td>3150.000000</td>\n",
       "    </tr>\n",
       "    <tr>\n",
       "      <th>mean</th>\n",
       "      <td>7.620952</td>\n",
       "      <td>0.092381</td>\n",
       "      <td>32.544444</td>\n",
       "      <td>0.953651</td>\n",
       "      <td>4488.200000</td>\n",
       "      <td>69.874921</td>\n",
       "      <td>73.267619</td>\n",
       "      <td>23.502222</td>\n",
       "      <td>1.077778</td>\n",
       "      <td>1.248254</td>\n",
       "      <td>30.996906</td>\n",
       "      <td>477.858073</td>\n",
       "    </tr>\n",
       "    <tr>\n",
       "      <th>std</th>\n",
       "      <td>7.267065</td>\n",
       "      <td>0.289609</td>\n",
       "      <td>8.565724</td>\n",
       "      <td>1.535153</td>\n",
       "      <td>4175.183592</td>\n",
       "      <td>57.159948</td>\n",
       "      <td>112.207217</td>\n",
       "      <td>17.222135</td>\n",
       "      <td>0.267864</td>\n",
       "      <td>0.432069</td>\n",
       "      <td>9.776719</td>\n",
       "      <td>512.234600</td>\n",
       "    </tr>\n",
       "    <tr>\n",
       "      <th>min</th>\n",
       "      <td>0.000000</td>\n",
       "      <td>0.000000</td>\n",
       "      <td>3.000000</td>\n",
       "      <td>0.000000</td>\n",
       "      <td>0.000000</td>\n",
       "      <td>0.000000</td>\n",
       "      <td>0.000000</td>\n",
       "      <td>0.000000</td>\n",
       "      <td>1.000000</td>\n",
       "      <td>1.000000</td>\n",
       "      <td>-30.000000</td>\n",
       "      <td>0.000000</td>\n",
       "    </tr>\n",
       "    <tr>\n",
       "      <th>25%</th>\n",
       "      <td>1.000000</td>\n",
       "      <td>0.000000</td>\n",
       "      <td>30.000000</td>\n",
       "      <td>0.000000</td>\n",
       "      <td>1450.750000</td>\n",
       "      <td>28.000000</td>\n",
       "      <td>6.000000</td>\n",
       "      <td>10.000000</td>\n",
       "      <td>1.000000</td>\n",
       "      <td>1.000000</td>\n",
       "      <td>25.000000</td>\n",
       "      <td>124.570000</td>\n",
       "    </tr>\n",
       "    <tr>\n",
       "      <th>50%</th>\n",
       "      <td>6.000000</td>\n",
       "      <td>0.000000</td>\n",
       "      <td>35.000000</td>\n",
       "      <td>0.000000</td>\n",
       "      <td>3030.000000</td>\n",
       "      <td>54.000000</td>\n",
       "      <td>21.000000</td>\n",
       "      <td>21.000000</td>\n",
       "      <td>1.000000</td>\n",
       "      <td>1.000000</td>\n",
       "      <td>30.000000</td>\n",
       "      <td>237.600000</td>\n",
       "    </tr>\n",
       "    <tr>\n",
       "      <th>75%</th>\n",
       "      <td>12.000000</td>\n",
       "      <td>0.000000</td>\n",
       "      <td>38.000000</td>\n",
       "      <td>1.000000</td>\n",
       "      <td>6467.000000</td>\n",
       "      <td>95.000000</td>\n",
       "      <td>87.000000</td>\n",
       "      <td>34.000000</td>\n",
       "      <td>1.000000</td>\n",
       "      <td>1.000000</td>\n",
       "      <td>30.000000</td>\n",
       "      <td>788.388750</td>\n",
       "    </tr>\n",
       "    <tr>\n",
       "      <th>max</th>\n",
       "      <td>36.000000</td>\n",
       "      <td>1.000000</td>\n",
       "      <td>47.000000</td>\n",
       "      <td>10.000000</td>\n",
       "      <td>17090.000000</td>\n",
       "      <td>255.000000</td>\n",
       "      <td>522.000000</td>\n",
       "      <td>97.000000</td>\n",
       "      <td>2.000000</td>\n",
       "      <td>2.000000</td>\n",
       "      <td>225.000000</td>\n",
       "      <td>2165.280000</td>\n",
       "    </tr>\n",
       "  </tbody>\n",
       "</table>\n",
       "</div>"
      ],
      "text/plain": [
       "       call_failure    complains  subscription_length  charge_amount  \\\n",
       "count   3150.000000  3150.000000          3150.000000    3150.000000   \n",
       "mean       7.620952     0.092381            32.544444       0.953651   \n",
       "std        7.267065     0.289609             8.565724       1.535153   \n",
       "min        0.000000     0.000000             3.000000       0.000000   \n",
       "25%        1.000000     0.000000            30.000000       0.000000   \n",
       "50%        6.000000     0.000000            35.000000       0.000000   \n",
       "75%       12.000000     0.000000            38.000000       1.000000   \n",
       "max       36.000000     1.000000            47.000000      10.000000   \n",
       "\n",
       "       seconds_of_use  frequency_of_use  frequency_of_sms  \\\n",
       "count     3150.000000       3150.000000       3150.000000   \n",
       "mean      4488.200000         69.874921         73.267619   \n",
       "std       4175.183592         57.159948        112.207217   \n",
       "min          0.000000          0.000000          0.000000   \n",
       "25%       1450.750000         28.000000          6.000000   \n",
       "50%       3030.000000         54.000000         21.000000   \n",
       "75%       6467.000000         95.000000         87.000000   \n",
       "max      17090.000000        255.000000        522.000000   \n",
       "\n",
       "       distinct_called_numbers  tariff_plan       status          age  \\\n",
       "count              3150.000000  3150.000000  3150.000000  2909.000000   \n",
       "mean                 23.502222     1.077778     1.248254    30.996906   \n",
       "std                  17.222135     0.267864     0.432069     9.776719   \n",
       "min                   0.000000     1.000000     1.000000   -30.000000   \n",
       "25%                  10.000000     1.000000     1.000000    25.000000   \n",
       "50%                  21.000000     1.000000     1.000000    30.000000   \n",
       "75%                  34.000000     1.000000     1.000000    30.000000   \n",
       "max                  97.000000     2.000000     2.000000   225.000000   \n",
       "\n",
       "       customer_value  \n",
       "count     3150.000000  \n",
       "mean       477.858073  \n",
       "std        512.234600  \n",
       "min          0.000000  \n",
       "25%        124.570000  \n",
       "50%        237.600000  \n",
       "75%        788.388750  \n",
       "max       2165.280000  "
      ]
     },
     "execution_count": 37,
     "metadata": {},
     "output_type": "execute_result"
    }
   ],
   "source": [
    "df_clean.describe()"
   ]
  },
  {
   "cell_type": "markdown",
   "id": "21268115",
   "metadata": {},
   "source": [
    "After cleaning, the dataset contains 3,150 records and 13 features.\n",
    "Most columns were fully cleaned, and missing values were imputed where necessary.\n",
    "\n",
    "The age column required special treatment:\n",
    "\n",
    "Values greater than 120 were assumed to be invalid and replaced with the median.\n",
    "\n",
    "Negative values were converted to their absolute values.\n",
    "\n",
    "All columns are now consistent in type and ready for further analysis or modeling."
   ]
  },
  {
   "cell_type": "markdown",
   "id": "4419fa16",
   "metadata": {},
   "source": [
    "### Negative entries in the 'Age' column should be identified and replaced with valid values"
   ]
  },
  {
   "cell_type": "code",
   "execution_count": 38,
   "id": "f71d23da",
   "metadata": {},
   "outputs": [],
   "source": [
    "df_clean['age'] = df_clean['age'].abs() "
   ]
  },
  {
   "cell_type": "code",
   "execution_count": 39,
   "id": "ae7474d5",
   "metadata": {},
   "outputs": [
    {
     "data": {
      "text/plain": [
       "count    2909.000000\n",
       "mean       31.017532\n",
       "std         9.711061\n",
       "min         0.000000\n",
       "25%        25.000000\n",
       "50%        30.000000\n",
       "75%        30.000000\n",
       "max       225.000000\n",
       "Name: age, dtype: float64"
      ]
     },
     "execution_count": 39,
     "metadata": {},
     "output_type": "execute_result"
    }
   ],
   "source": [
    "df_clean['age'].describe()"
   ]
  },
  {
   "cell_type": "code",
   "execution_count": 40,
   "id": "c3b3dec3",
   "metadata": {},
   "outputs": [
    {
     "data": {
      "text/plain": [
       "age\n",
       "0.0         4\n",
       "15.0      122\n",
       "25.0      967\n",
       "30.0     1287\n",
       "45.0      365\n",
       "55.0      163\n",
       "225.0       1\n",
       "Name: count, dtype: int64"
      ]
     },
     "execution_count": 40,
     "metadata": {},
     "output_type": "execute_result"
    }
   ],
   "source": [
    "df_clean['age'].value_counts().sort_index()"
   ]
  },
  {
   "cell_type": "code",
   "execution_count": 41,
   "id": "a9725709",
   "metadata": {},
   "outputs": [
    {
     "data": {
      "text/plain": [
       "np.float64(30.0)"
      ]
     },
     "execution_count": 41,
     "metadata": {},
     "output_type": "execute_result"
    }
   ],
   "source": [
    "median_age = df_clean.loc[(df_clean['age'] >0)&(df_clean['age'] <= 120) , 'age'].median()\n",
    "df_clean.loc[(df_clean['age'] ==0)|(df_clean['age'] > 120), 'age'] = median_age\n",
    "median_age"
   ]
  },
  {
   "cell_type": "code",
   "execution_count": 42,
   "id": "63e0804e",
   "metadata": {},
   "outputs": [
    {
     "data": {
      "text/plain": [
       "age\n",
       "15.0     122\n",
       "25.0     967\n",
       "30.0    1292\n",
       "45.0     365\n",
       "55.0     163\n",
       "Name: count, dtype: int64"
      ]
     },
     "execution_count": 42,
     "metadata": {},
     "output_type": "execute_result"
    }
   ],
   "source": [
    "df_clean['age'].value_counts().sort_index()"
   ]
  },
  {
   "cell_type": "markdown",
   "id": "4e595ce2",
   "metadata": {},
   "source": [
    "### boxplots for numeric columns to identify potential outlier values"
   ]
  },
  {
   "cell_type": "markdown",
   "id": "1b535e2f",
   "metadata": {},
   "source": [
    "Purpose:\n",
    "\n",
    "This step helps visualize extreme values that may affect statistical analysis or modeling and supports decisions about whether further cleaning or transformation is needed."
   ]
  },
  {
   "cell_type": "code",
   "execution_count": 43,
   "id": "7953208a",
   "metadata": {},
   "outputs": [
    {
     "data": {
      "image/png": "[encoded data removed]",
      "text/plain": [
       "<Figure size 1200x400 with 2 Axes>"
      ]
     },
     "metadata": {},
     "output_type": "display_data"
    },
    {
     "name": "stdout",
     "output_type": "stream",
     "text": [
      "call_failure: 47 potential outliers\n",
      "subscription_length: 282 potential outliers\n"
     ]
    },
    {
     "data": {
      "image/png": "[encoded data removed]",
      "text/plain": [
       "<Figure size 1200x400 with 2 Axes>"
      ]
     },
     "metadata": {},
     "output_type": "display_data"
    },
    {
     "name": "stdout",
     "output_type": "stream",
     "text": [
      "charge_amount: 376 potential outliers\n",
      "seconds_of_use: 208 potential outliers\n"
     ]
    },
    {
     "data": {
      "image/png": "[encoded data removed]",
      "text/plain": [
       "<Figure size 1200x400 with 2 Axes>"
      ]
     },
     "metadata": {},
     "output_type": "display_data"
    },
    {
     "name": "stdout",
     "output_type": "stream",
     "text": [
      "frequency_of_use: 130 potential outliers\n",
      "frequency_of_sms: 368 potential outliers\n"
     ]
    },
    {
     "data": {
      "image/png": "[encoded data removed]",
      "text/plain": [
       "<Figure size 1200x400 with 2 Axes>"
      ]
     },
     "metadata": {},
     "output_type": "display_data"
    },
    {
     "name": "stdout",
     "output_type": "stream",
     "text": [
      "distinct_called_numbers: 77 potential outliers\n",
      "age: 650 potential outliers\n"
     ]
    },
    {
     "data": {
      "image/png": "[encoded data removed]",
      "text/plain": [
       "<Figure size 1200x400 with 1 Axes>"
      ]
     },
     "metadata": {},
     "output_type": "display_data"
    },
    {
     "name": "stdout",
     "output_type": "stream",
     "text": [
      "customer_value: 116 potential outliers\n"
     ]
    }
   ],
   "source": [
    "binary_cols = ['complains', 'tariff_plan', 'status', 'churn']\n",
    "\n",
    "df_num = df_clean.drop(columns=binary_cols)\n",
    "\n",
    "# two boxplot in one row\n",
    "num_cols = len(df_num.columns)\n",
    "for i in range(0, num_cols, 2):\n",
    "    plt.figure(figsize=(12, 4))\n",
    "    \n",
    "    # first boxplot\n",
    "    plt.subplot(1, 2, 1)\n",
    "    col = df_num.columns[i]\n",
    "    plt.boxplot(df_clean[col], vert=False)\n",
    "    plt.title(f\"Boxplot of {col}\")\n",
    "    plt.xlabel(col)\n",
    "    \n",
    "    #  second boxplot\n",
    "    if i+1 < num_cols:\n",
    "        plt.subplot(1, 2, 2)\n",
    "        col = df_num.columns[i+1]\n",
    "        plt.boxplot(df_clean[col], vert=False)\n",
    "        plt.title(f\"Boxplot of {col}\")\n",
    "        plt.xlabel(col)\n",
    "    \n",
    "    plt.tight_layout()\n",
    "    plt.show()\n",
    "    \n",
    "    # number of potential outlier\n",
    "    for col in df_num.columns[i:i+2]:\n",
    "        Q1 = df_clean[col].quantile(0.25)\n",
    "        Q3 = df_clean[col].quantile(0.75)\n",
    "        IQR = Q3 - Q1\n",
    "        lower_bound = Q1 - 1.5 * IQR\n",
    "        upper_bound = Q3 + 1.5 * IQR\n",
    "        outliers = df_clean[(df_clean[col] < lower_bound) | (df_clean[col] > upper_bound)]\n",
    "        print(f\"{col}: {outliers.shape[0]} potential outliers\")\n"
   ]
  },
  {
   "cell_type": "markdown",
   "id": "2fa9ab65",
   "metadata": {},
   "source": [
    "### Export the cleaned data to a CSV file"
   ]
  },
  {
   "cell_type": "code",
   "execution_count": 44,
   "id": "f86fd18b",
   "metadata": {},
   "outputs": [],
   "source": [
    "df_clean.to_csv('churn_final.csv',index = False)"
   ]
  }
 ],
 "metadata": {
  "kernelspec": {
   "display_name": "Python 3",
   "language": "python",
   "name": "python3"
  },
  "language_info": {
   "codemirror_mode": {
    "name": "ipython",
    "version": 3
   },
   "file_extension": ".py",
   "mimetype": "text/x-python",
   "name": "python",
   "nbconvert_exporter": "python",
   "pygments_lexer": "ipython3",
   "version": "3.13.0"
  }
 },
 "nbformat": 4,
 "nbformat_minor": 5
}
